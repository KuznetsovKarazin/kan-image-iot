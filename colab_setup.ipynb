{
 "cells": [
  {
   "cell_type": "markdown",
   "metadata": {},
   "source": [
    "# KAN-Image-IoT: Google Colab Setup\n",
    "\n",
    "This notebook helps you set up and run the KAN-based person detection model in Google Colab with GPU acceleration."
   ]
  },
  {
   "cell_type": "markdown",
   "metadata": {},
   "source": [
    "## 1. Check GPU Availability"
   ]
  },
  {
   "cell_type": "code",
   "execution_count": null,
   "metadata": {},
   "outputs": [],
   "source": [
    "import os\n",
    "import sys\n",
    "import torch\n",
    "\n",
    "# Check for GPU\n",
    "if torch.cuda.is_available():\n",
    "    device = torch.device(\"cuda\")\n",
    "    print(f\"Using GPU: {torch.cuda.get_device_name(0)}\")\n",
    "    print(f\"CUDA Version: {torch.version.cuda}\")\n",
    "    print(f\"GPU Memory: {torch.cuda.get_device_properties(0).total_memory / 1e9:.2f} GB\")\n",
    "else:\n",
    "    print(\"No GPU available, using CPU\")\n",
    "    device = torch.device(\"cpu\")"
   ]
  },
  {
   "cell_type": "markdown",
   "metadata": {},
   "source": [
    "## 2. Clone Repository and Install Dependencies"
   ]
  },
  {
   "cell_type": "code",
   "execution_count": null,
   "metadata": {},
   "outputs": [],
   "source": [
    "# Clone the repository\n",
    "!git clone https://github.com/yourusername/kan-image-iot.git\n",
    "%cd kan-image-iot\n",
    "\n",
    "# Install dependencies\n",
    "!pip install -q -r requirements.txt"
   ]
  },
  {
   "cell_type": "markdown",
   "metadata": {},
   "source": [
    "## 3. Mount Google Drive for Saving Results"
   ]
  },
  {
   "cell_type": "code",
   "execution_count": null,
   "metadata": {},
   "outputs": [],
   "source": [
    "# Mount Google Drive\n",
    "from google.colab import drive\n",
    "drive.mount('/content/drive')\n",
    "\n",
    "# Create directory for experiment results\n",
    "!mkdir -p /content/drive/MyDrive/kan-image-iot-results\n",
    "\n",
    "# Create symbolic link to easily access results\n",
    "!ln -sf /content/drive/MyDrive/kan-image-iot-results experiment_data"
   ]
  },
  {
   "cell_type": "markdown",
   "metadata": {},
   "source": [
    "## 4. Prepare Dataset (Run Once)"
   ]
  },
  {
   "cell_type": "code",
   "execution_count": null,
   "metadata": {},
   "outputs": [],
   "source": [
    "# Run this cell if you need to prepare the dataset\n",
    "# It will download and process the VWW dataset\n",
    "!python src/prepare_dataset.py"
   ]
  },
  {
   "cell_type": "markdown",
   "metadata": {},
   "source": [
    "## 5. Train Model with GPU Acceleration"
   ]
  },
  {
   "cell_type": "code",
   "execution_count": null,
   "metadata": {},
   "outputs": [],
   "source": [
    "# Train the model with GPU and mixed precision\n",
    "!python src/train.py --device cuda --precision mixed --batch_size 128"
   ]
  },
  {
   "cell_type": "markdown",
   "metadata": {},
   "source": [
    "## 6. Analyze Model Performance"
   ]
  },
  {
   "cell_type": "code",
   "execution_count": null,
   "metadata": {},
   "outputs": [],
   "source": [
    "# Run model analysis\n",
    "!python src/analyze.py --device cuda"
   ]
  },
  {
   "cell_type": "markdown",
   "metadata": {},
   "source": [
    "## 7. Visualize Results"
   ]
  },
  {
   "cell_type": "code",
   "execution_count": null,
   "metadata": {},
   "outputs": [],
   "source": [
    "import matplotlib.pyplot as plt\n",
    "from pathlib import Path\n",
    "import glob\n",
    "\n",
    "# Find the latest experiment directory\n",
    "exp_dirs = list(Path('experiment_data').glob('*'))\n",
    "if exp_dirs:\n",
    "    latest_exp = max(exp_dirs, key=os.path.getmtime)\n",
    "    \n",
    "    # Training curves\n",
    "    train_plot = list(latest_exp.glob('figures/training_metrics.png'))\n",
    "    if train_plot:\n",
    "        plt.figure(figsize=(12, 8))\n",
    "        plt.imshow(plt.imread(train_plot[0]))\n",
    "        plt.axis('off')\n",
    "        plt.title('Training Metrics')\n",
    "        plt.show()\n",
    "    \n",
    "    # Confusion matrix\n",
    "    cm_plot = list(latest_exp.glob('figures/confusion_matrix.png'))\n",
    "    if cm_plot:\n",
    "        plt.figure(figsize=(10, 8))\n",
    "        plt.imshow(plt.imread(cm_plot[0]))\n",
    "        plt.axis('off')\n",
    "        plt.title('Confusion Matrix')\n",
    "        plt.show()\n",
    "else:\n",
    "    print(\"No experiment results found. Run training first.\")"
   ]
  }
 ],
 "metadata": {
  "accelerator": "GPU",
  "colab": {
   "gpuType": "T4",
   "provenance": []
  },
  "kernelspec": {
   "display_name": "Python 3",
   "name": "python3"
  },
  "language_info": {
   "codemirror_mode": {
    "name": "ipython",
    "version": 3
   },
   "file_extension": ".py",
   "mimetype": "text/x-python",
   "name": "python",
   "nbconvert_exporter": "python",
   "pygments_lexer": "ipython3",
   "version": "3.8.10"
  }
 },
 "nbformat": 4,
 "nbformat_minor": 4
}